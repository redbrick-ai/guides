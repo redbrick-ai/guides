{
 "cells": [
  {
   "cell_type": "code",
   "execution_count": null,
   "metadata": {},
   "outputs": [],
   "source": [
    "import pydicom\n",
    "import redbrick\n",
    "import os\n",
    "import pandas as pd\n",
    "import json\n",
    "import numpy as np"
   ]
  },
  {
   "cell_type": "markdown",
   "metadata": {},
   "source": [
    "# Basic setup"
   ]
  },
  {
   "cell_type": "code",
   "execution_count": 3,
   "metadata": {},
   "outputs": [],
   "source": [
    "org_id = \"\"\n",
    "api_key = \"\"\n",
    "url = \"https://app.redbrickai.com\"\n",
    "taxonomy_name = \"X-ray anomaly\"\n",
    "project_name = \"X-ray anomaly\"\n",
    "\n",
    "org = redbrick.get_org(org_id=org_id, api_key=api_key, url=url)"
   ]
  },
  {
   "cell_type": "markdown",
   "metadata": {},
   "source": [
    "# Creating a taxonomy\n",
    "Taxonomies define what you are annotating in your images. "
   ]
  },
  {
   "cell_type": "code",
   "execution_count": null,
   "metadata": {},
   "outputs": [],
   "source": [
    "findings = [\n",
    "    \"Aortic enlargement\",\n",
    "    \"Atelectasis\",\n",
    "    \"Calcification\",\n",
    "    \"Cardiomegaly\",\n",
    "    \"Consolidation\",\n",
    "    \"ILD\",\n",
    "    \"Infiltration\",\n",
    "    \"Lung Opacity\",\n",
    "    \"Nodule/Mass\",\n",
    "    \"Other lesion\",\n",
    "    \"Pleural effusion\",\n",
    "    \"Pleural thickening\",\n",
    "    \"Pneumothorax\",\n",
    "    \"Pulmonary fibrosis\"\n",
    "]\n",
    "\n",
    "object_types = []\n",
    "for i, finding in enumerate(findings): \n",
    "    object_types += [\n",
    "        {\n",
    "            \"category\": finding, \n",
    "            \"labelType\": \"BBOX\", \n",
    "            \"classId\": i + 1\n",
    "        }\n",
    "    ]\n",
    "\n",
    "study_classify = [\n",
    "    {\n",
    "        \"name\": \"Finding\", \n",
    "        \"attrId\": 1, \n",
    "        \"attrType\": \"BOOL\"\n",
    "    }\n",
    "]\n",
    "\n",
    "org.create_taxonomy(\n",
    "    name=taxonomy_name,\n",
    "    object_types=object_types, \n",
    "    study_classify=study_classify\n",
    ")"
   ]
  },
  {
   "cell_type": "markdown",
   "metadata": {},
   "source": [
    "# Prepare dataset upload"
   ]
  },
  {
   "cell_type": "code",
   "execution_count": 5,
   "metadata": {},
   "outputs": [],
   "source": [
    "files = filter(lambda x: x.endswith(\".dicom\"), os.listdir(\"data\"))\n",
    "df = pd.read_csv(\"train.csv\")\n",
    "items = []\n",
    "\n",
    "for file in files: \n",
    "    id = file.replace(\".dicom\", \"\")\n",
    "    \n",
    "    # Get row for image id\n",
    "    row = df.loc[df['image_id'] == id].iloc[0]\n",
    "\n",
    "    class_name = row[\"class_name\"]\n",
    "    series = {\n",
    "        \"items\": os.path.join(\"data\", file), \n",
    "    }\n",
    "    \n",
    "    # Add bounding box if it exists\n",
    "    if class_name != \"No finding\": \n",
    "        img = pydicom.dcmread(os.path.join(\"data\", file))\n",
    "        height, width = img.pixel_array.shape\n",
    "\n",
    "        bbox = {\n",
    "            \"pointTopLeft\": {\n",
    "                \"xNorm\": row[\"x_min\"] / width, \n",
    "                \"yNorm\": row[\"y_min\"] / height,\n",
    "            },\n",
    "            \"hNorm\": (row[\"x_max\"] - row[\"x_min\"]) / width, \n",
    "            \"wNorm\": (row[\"y_max\"] - row[\"y_min\"]) / height, \n",
    "            \"category\": class_name\n",
    "        }\n",
    "        series[\"boundingBoxes\"] = [bbox]\n",
    "\n",
    "\n",
    "    items += [\n",
    "        {\n",
    "            \"name\": class_name + \"_\" + id, \n",
    "            \"series\": [series],\n",
    "            \"priority\": np.random.uniform(0, 1),\n",
    "            \"classification\": {\n",
    "                \"attributes\": {\n",
    "                    \"Finding\": False if class_name == \"No finding\" else True\n",
    "                }\n",
    "            }\n",
    "        }\n",
    "    ]\n",
    "\n",
    "with open(\"items.json\", \"w+\") as file:\n",
    "    json.dump(items, file, indent=2)"
   ]
  },
  {
   "cell_type": "markdown",
   "metadata": {},
   "source": [
    "# Create project and upload data"
   ]
  },
  {
   "cell_type": "code",
   "execution_count": 6,
   "metadata": {},
   "outputs": [],
   "source": [
    "project = org.create_project_advanced(\n",
    "    name=project_name, \n",
    "    taxonomy_name=taxonomy_name, \n",
    "    stages=[\n",
    "        redbrick.LabelStage(\n",
    "            stage_name=\"Label\", \n",
    "            config=redbrick.LabelStage.Config(auto_assignment=False, show_uploaded_annotations=False),\n",
    "            on_submit=\"Tie_breaker\"\n",
    "        ),\n",
    "        redbrick.ReviewStage(\n",
    "            stage_name=\"Tie_breaker\", \n",
    "            config=redbrick.ReviewStage.Config(auto_assignment=False),\n",
    "            on_accept=\"Internal\",\n",
    "            on_reject=\"Label\"\n",
    "        ),\n",
    "        redbrick.ReviewStage(\n",
    "            stage_name=\"Internal\", \n",
    "            config=redbrick.ReviewStage.Config(auto_assignment=False),\n",
    "            on_reject=\"Label\"\n",
    "        )\n",
    "    ]\n",
    ")"
   ]
  },
  {
   "cell_type": "code",
   "execution_count": null,
   "metadata": {},
   "outputs": [],
   "source": [
    "tasks = project.upload.create_datapoints(\n",
    "    storage_id=redbrick.StorageMethod.REDBRICK, \n",
    "    points=items\n",
    ")"
   ]
  }
 ],
 "metadata": {
  "kernelspec": {
   "display_name": "Python 3",
   "language": "python",
   "name": "python3"
  },
  "language_info": {
   "codemirror_mode": {
    "name": "ipython",
    "version": 3
   },
   "file_extension": ".py",
   "mimetype": "text/x-python",
   "name": "python",
   "nbconvert_exporter": "python",
   "pygments_lexer": "ipython3",
   "version": "3.10.0"
  }
 },
 "nbformat": 4,
 "nbformat_minor": 2
}
